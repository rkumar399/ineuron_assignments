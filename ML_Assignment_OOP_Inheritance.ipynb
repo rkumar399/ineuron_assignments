{
 "cells": [
  {
   "cell_type": "code",
   "execution_count": 16,
   "metadata": {},
   "outputs": [
    {
     "name": "stdout",
     "output_type": "stream",
     "text": [
      "\n",
      "Parameter variable 'a': 1\n",
      "Parameter variable 'b': 2\n",
      "Parameter variable 'c': 3\n",
      "Test Function of class A: Test method of class A\n",
      "Test Function of class B: Test method of class B\n",
      "Fixed variable of class A: Var_A\n",
      "Fixed variable of class B: Var_B\n",
      "Fixed variable of class C: Var_C\n",
      "\n"
     ]
    }
   ],
   "source": [
    "class A:\n",
    "    #Class A initization \n",
    "    def __init__(self, a):\n",
    "        self.a = a\n",
    "        self.A = 'Var_A'\n",
    "    \n",
    "    def test(self):\n",
    "        return \"Test method of class A\"\n",
    "    \n",
    "class B:\n",
    "    #Class B initization \n",
    "    def __init__(self, b):\n",
    "        self.b = b\n",
    "        self.B = 'Var_B'\n",
    "        \n",
    "    def test(self):\n",
    "        return \"Test method of class B\"\n",
    "\n",
    "class C(A, B):\n",
    "    #Class C initization and of its super classes\n",
    "    def __init__(self, a, b, c):\n",
    "        self.c = c\n",
    "        self.C = 'Var_C'\n",
    "        super().__init__(a)\n",
    "        B.__init__(self, b)\n",
    "        \n",
    "    def Atest(self):\n",
    "        return A.test(self)\n",
    "        \n",
    "    def Btest(self):\n",
    "        return B.test(self)\n",
    "\n",
    "objC = C(1, 2, 3)\n",
    "\n",
    "print(\"\"\"\n",
    "Parameter variable 'a': {}\n",
    "Parameter variable 'b': {}\n",
    "Parameter variable 'c': {}\n",
    "Test Function of class A: {}\n",
    "Test Function of class B: {}\n",
    "Fixed variable of class A: {}\n",
    "Fixed variable of class B: {}\n",
    "Fixed variable of class C: {}\n",
    "\"\"\".format(\n",
    "    objC.a, \n",
    "    objC.b, \n",
    "    objC.c, \n",
    "    objC.Atest(), \n",
    "    objC.Btest(), \n",
    "    objC.A, \n",
    "    objC.B, \n",
    "    objC.C))\n"
   ]
  },
  {
   "cell_type": "code",
   "execution_count": null,
   "metadata": {},
   "outputs": [],
   "source": []
  }
 ],
 "metadata": {
  "kernelspec": {
   "display_name": "Python 3",
   "language": "python",
   "name": "python3"
  },
  "language_info": {
   "codemirror_mode": {
    "name": "ipython",
    "version": 3
   },
   "file_extension": ".py",
   "mimetype": "text/x-python",
   "name": "python",
   "nbconvert_exporter": "python",
   "pygments_lexer": "ipython3",
   "version": "3.7.3"
  }
 },
 "nbformat": 4,
 "nbformat_minor": 2
}
